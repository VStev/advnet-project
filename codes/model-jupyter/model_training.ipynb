{
 "cells": [
  {
   "cell_type": "markdown",
   "metadata": {
    "id": "YMYrIJaOPC-5"
   },
   "source": [
    "prep and load data"
   ]
  },
  {
   "cell_type": "code",
   "execution_count": 1,
   "metadata": {
    "colab": {
     "base_uri": "https://localhost:8080/"
    },
    "id": "nmDTxG_KPCyZ",
    "outputId": "4666ee2d-8381-4c83-e8a2-9d223351ae3b"
   },
   "outputs": [],
   "source": [
    "import pandas as pd\n",
    "import numpy as np\n",
    "from sklearn.metrics import confusion_matrix\n",
    "from sklearn.metrics import precision_score, recall_score, accuracy_score\n",
    "from sklearn import preprocessing\n",
    "from sklearn.preprocessing import StandardScaler\n",
    "from sklearn.model_selection import train_test_split\n",
    "# from google.colab import drive\n",
    "# drive.mount('/content/drive')"
   ]
  },
  {
   "cell_type": "code",
   "execution_count": 2,
   "metadata": {
    "id": "55JqkoILPcnT"
   },
   "outputs": [],
   "source": [
    "from sklearn_pandas import DataFrameMapper\n",
    "\n",
    "dataset = pd.read_csv(\"~/Documents/advnet/advnet-project/codes/dataset/processed_dataset.csv\")\n",
    "batch_size = 64\n",
    "fe_data = dataset.copy()\n",
    "fe_data = fe_data.drop([\"Label\", \"Sub_Cat\"], axis = 1)\n",
    "le = preprocessing.LabelEncoder()\n",
    "for column_name in fe_data.columns:\n",
    "    if fe_data[column_name].dtype == object:\n",
    "        fe_data[column_name] = le.fit_transform(fe_data[column_name])\n",
    "    else:\n",
    "        pass\n",
    "fe_data.replace([np.inf, -np.inf], np.nan, inplace=True)\n",
    "fe_data.dropna(inplace=True)\n",
    "fe_datay = fe_data.Cat\n",
    "fe_data = fe_data.drop([\"Cat\"], axis = 1)\n",
    "scaler = StandardScaler()\n",
    "mapper = DataFrameMapper([(fe_data.columns, StandardScaler())])\n",
    "scaled_features = mapper.fit_transform(fe_data.copy(), 4)\n",
    "scaled_features_df = pd.DataFrame(scaled_features, index=fe_data.index, columns=fe_data.columns)\n",
    "fe_datax = scaled_features_df\n",
    "fex_train, fex_valid, fey_train, fey_valid = train_test_split(fe_datax, fe_datay, test_size = 0.3, random_state = 7)"
   ]
  },
  {
   "cell_type": "markdown",
   "metadata": {},
   "source": [
    "dataset = pd.read_csv(\"~/Documents/advnet/advnet-project/codes/dataset/processed_dataset.csv\")\n",
    "batch_size = 64\n",
    "fe_data = dataset.copy()\n",
    "fe_data = fe_data.drop([\"Label\", \"Sub_Cat\"], axis = 1)\n",
    "fe_datax = fe_data.drop([\"Cat\"], axis = 1)\n",
    "fe_datay = fe_data.Cat\n",
    "fex_train, fex_valid, fey_train, fey_valid = train_test_split(fe_datax, fe_datay, test_size = 0.3, random_state = 7)"
   ]
  },
  {
   "cell_type": "code",
   "execution_count": 3,
   "metadata": {
    "colab": {
     "base_uri": "https://localhost:8080/",
     "height": 255
    },
    "id": "IQvMr-vPZXK7",
    "outputId": "b90f625c-370c-4d49-ea63-bbf63f60805e"
   },
   "outputs": [
    {
     "data": {
      "text/html": [
       "<div>\n",
       "<style scoped>\n",
       "    .dataframe tbody tr th:only-of-type {\n",
       "        vertical-align: middle;\n",
       "    }\n",
       "\n",
       "    .dataframe tbody tr th {\n",
       "        vertical-align: top;\n",
       "    }\n",
       "\n",
       "    .dataframe thead th {\n",
       "        text-align: right;\n",
       "    }\n",
       "</style>\n",
       "<table border=\"1\" class=\"dataframe\">\n",
       "  <thead>\n",
       "    <tr style=\"text-align: right;\">\n",
       "      <th></th>\n",
       "      <th>Flow_ID</th>\n",
       "      <th>Src_IP</th>\n",
       "      <th>Src_Port</th>\n",
       "      <th>Dst_IP</th>\n",
       "      <th>Dst_Port</th>\n",
       "      <th>Protocol</th>\n",
       "      <th>Timestamp</th>\n",
       "      <th>Flow_Duration</th>\n",
       "      <th>Tot_Fwd_Pkts</th>\n",
       "      <th>Tot_Bwd_Pkts</th>\n",
       "      <th>...</th>\n",
       "      <th>Fwd_Act_Data_Pkts</th>\n",
       "      <th>Fwd_Seg_Size_Min</th>\n",
       "      <th>Active_Mean</th>\n",
       "      <th>Active_Std</th>\n",
       "      <th>Active_Max</th>\n",
       "      <th>Active_Min</th>\n",
       "      <th>Idle_Mean</th>\n",
       "      <th>Idle_Std</th>\n",
       "      <th>Idle_Max</th>\n",
       "      <th>Idle_Min</th>\n",
       "    </tr>\n",
       "  </thead>\n",
       "  <tbody>\n",
       "    <tr>\n",
       "      <th>0</th>\n",
       "      <td>-0.736911</td>\n",
       "      <td>0.250293</td>\n",
       "      <td>-1.011778</td>\n",
       "      <td>-0.125878</td>\n",
       "      <td>-0.358338</td>\n",
       "      <td>1.307488</td>\n",
       "      <td>0.773641</td>\n",
       "      <td>-0.160332</td>\n",
       "      <td>-0.156791</td>\n",
       "      <td>-0.384331</td>\n",
       "      <td>...</td>\n",
       "      <td>-0.117722</td>\n",
       "      <td>0.0</td>\n",
       "      <td>-0.055323</td>\n",
       "      <td>-0.017058</td>\n",
       "      <td>-0.047788</td>\n",
       "      <td>-0.054019</td>\n",
       "      <td>-0.202409</td>\n",
       "      <td>-0.045456</td>\n",
       "      <td>-0.169801</td>\n",
       "      <td>-0.203131</td>\n",
       "    </tr>\n",
       "    <tr>\n",
       "      <th>1</th>\n",
       "      <td>-0.250776</td>\n",
       "      <td>1.113764</td>\n",
       "      <td>-1.328144</td>\n",
       "      <td>-0.187599</td>\n",
       "      <td>-0.902186</td>\n",
       "      <td>-0.737598</td>\n",
       "      <td>0.941439</td>\n",
       "      <td>1.336352</td>\n",
       "      <td>-0.156791</td>\n",
       "      <td>0.435478</td>\n",
       "      <td>...</td>\n",
       "      <td>-0.348456</td>\n",
       "      <td>0.0</td>\n",
       "      <td>-0.055323</td>\n",
       "      <td>-0.017058</td>\n",
       "      <td>-0.047788</td>\n",
       "      <td>-0.054019</td>\n",
       "      <td>1.018291</td>\n",
       "      <td>1.914911</td>\n",
       "      <td>1.287665</td>\n",
       "      <td>0.304516</td>\n",
       "    </tr>\n",
       "    <tr>\n",
       "      <th>2</th>\n",
       "      <td>-0.725363</td>\n",
       "      <td>0.250589</td>\n",
       "      <td>0.716565</td>\n",
       "      <td>-0.187599</td>\n",
       "      <td>-0.419918</td>\n",
       "      <td>-0.737598</td>\n",
       "      <td>-0.638660</td>\n",
       "      <td>-0.141462</td>\n",
       "      <td>-0.388745</td>\n",
       "      <td>1.255288</td>\n",
       "      <td>...</td>\n",
       "      <td>-0.348456</td>\n",
       "      <td>0.0</td>\n",
       "      <td>-0.055323</td>\n",
       "      <td>-0.017058</td>\n",
       "      <td>-0.047788</td>\n",
       "      <td>-0.054019</td>\n",
       "      <td>-0.204538</td>\n",
       "      <td>-0.044843</td>\n",
       "      <td>-0.171196</td>\n",
       "      <td>-0.205719</td>\n",
       "    </tr>\n",
       "    <tr>\n",
       "      <th>3</th>\n",
       "      <td>-0.724750</td>\n",
       "      <td>0.250589</td>\n",
       "      <td>0.726152</td>\n",
       "      <td>-0.187599</td>\n",
       "      <td>-0.419918</td>\n",
       "      <td>-0.737598</td>\n",
       "      <td>-1.928109</td>\n",
       "      <td>-0.138603</td>\n",
       "      <td>-0.388745</td>\n",
       "      <td>0.435478</td>\n",
       "      <td>...</td>\n",
       "      <td>-0.348456</td>\n",
       "      <td>0.0</td>\n",
       "      <td>-0.055323</td>\n",
       "      <td>-0.017058</td>\n",
       "      <td>-0.047788</td>\n",
       "      <td>-0.054019</td>\n",
       "      <td>-0.166450</td>\n",
       "      <td>-0.045456</td>\n",
       "      <td>-0.143295</td>\n",
       "      <td>-0.163803</td>\n",
       "    </tr>\n",
       "    <tr>\n",
       "      <th>4</th>\n",
       "      <td>-1.294735</td>\n",
       "      <td>0.250095</td>\n",
       "      <td>0.070808</td>\n",
       "      <td>2.219526</td>\n",
       "      <td>-0.825511</td>\n",
       "      <td>1.307488</td>\n",
       "      <td>-1.679408</td>\n",
       "      <td>-0.138031</td>\n",
       "      <td>0.075163</td>\n",
       "      <td>-0.384331</td>\n",
       "      <td>...</td>\n",
       "      <td>0.113012</td>\n",
       "      <td>0.0</td>\n",
       "      <td>-0.055323</td>\n",
       "      <td>-0.017058</td>\n",
       "      <td>-0.047788</td>\n",
       "      <td>-0.054019</td>\n",
       "      <td>-0.201699</td>\n",
       "      <td>-0.044843</td>\n",
       "      <td>-0.169103</td>\n",
       "      <td>-0.202614</td>\n",
       "    </tr>\n",
       "  </tbody>\n",
       "</table>\n",
       "<p>5 rows × 83 columns</p>\n",
       "</div>"
      ],
      "text/plain": [
       "    Flow_ID    Src_IP  Src_Port    Dst_IP  Dst_Port  Protocol  Timestamp  \\\n",
       "0 -0.736911  0.250293 -1.011778 -0.125878 -0.358338  1.307488   0.773641   \n",
       "1 -0.250776  1.113764 -1.328144 -0.187599 -0.902186 -0.737598   0.941439   \n",
       "2 -0.725363  0.250589  0.716565 -0.187599 -0.419918 -0.737598  -0.638660   \n",
       "3 -0.724750  0.250589  0.726152 -0.187599 -0.419918 -0.737598  -1.928109   \n",
       "4 -1.294735  0.250095  0.070808  2.219526 -0.825511  1.307488  -1.679408   \n",
       "\n",
       "   Flow_Duration  Tot_Fwd_Pkts  Tot_Bwd_Pkts  ...  Fwd_Act_Data_Pkts  \\\n",
       "0      -0.160332     -0.156791     -0.384331  ...          -0.117722   \n",
       "1       1.336352     -0.156791      0.435478  ...          -0.348456   \n",
       "2      -0.141462     -0.388745      1.255288  ...          -0.348456   \n",
       "3      -0.138603     -0.388745      0.435478  ...          -0.348456   \n",
       "4      -0.138031      0.075163     -0.384331  ...           0.113012   \n",
       "\n",
       "   Fwd_Seg_Size_Min  Active_Mean  Active_Std  Active_Max  Active_Min  \\\n",
       "0               0.0    -0.055323   -0.017058   -0.047788   -0.054019   \n",
       "1               0.0    -0.055323   -0.017058   -0.047788   -0.054019   \n",
       "2               0.0    -0.055323   -0.017058   -0.047788   -0.054019   \n",
       "3               0.0    -0.055323   -0.017058   -0.047788   -0.054019   \n",
       "4               0.0    -0.055323   -0.017058   -0.047788   -0.054019   \n",
       "\n",
       "   Idle_Mean  Idle_Std  Idle_Max  Idle_Min  \n",
       "0  -0.202409 -0.045456 -0.169801 -0.203131  \n",
       "1   1.018291  1.914911  1.287665  0.304516  \n",
       "2  -0.204538 -0.044843 -0.171196 -0.205719  \n",
       "3  -0.166450 -0.045456 -0.143295 -0.163803  \n",
       "4  -0.201699 -0.044843 -0.169103 -0.202614  \n",
       "\n",
       "[5 rows x 83 columns]"
      ]
     },
     "execution_count": 3,
     "metadata": {},
     "output_type": "execute_result"
    }
   ],
   "source": [
    "fe_datax.head()"
   ]
  },
  {
   "cell_type": "code",
   "execution_count": 4,
   "metadata": {
    "colab": {
     "base_uri": "https://localhost:8080/",
     "height": 176
    },
    "id": "VlpwAQxZL4cv",
    "outputId": "eb24680d-e57f-45aa-81b4-11c0878961ba"
   },
   "outputs": [
    {
     "data": {
      "text/plain": [
       "array([2, 0, 4, 3, 1])"
      ]
     },
     "execution_count": 4,
     "metadata": {},
     "output_type": "execute_result"
    }
   ],
   "source": [
    "fe_datay.unique()"
   ]
  },
  {
   "cell_type": "markdown",
   "metadata": {
    "id": "VUPlw_bT7BJP"
   },
   "source": [
    "define reusable metric func"
   ]
  },
  {
   "cell_type": "code",
   "execution_count": 5,
   "metadata": {
    "id": "lEyG7YOB7DCh"
   },
   "outputs": [],
   "source": [
    "def evaluate_multiclass_classification(y_true, y_pred):\n",
    "    # Calculate accuracy\n",
    "    accuracy = accuracy_score(y_true, y_pred)\n",
    "\n",
    "    # Calculate confusion matrix\n",
    "    cm = confusion_matrix(y_true, y_pred)\n",
    "\n",
    "    # Calculate precision and recall for each class\n",
    "    precision = precision_score(y_true, y_pred, average=None)\n",
    "    recall = recall_score(y_true, y_pred, average=None)\n",
    "\n",
    "    # Calculate False Positive Rate (FPR) for each class\n",
    "    # FPR = FP / (FP + TN)\n",
    "    fpr = [cm[i, :].sum() - cm[i, i] / (cm[i, :].sum()) for i in range(len(cm))]\n",
    "\n",
    "    # Calculate macro-averaged precision, recall, and FPR\n",
    "    macro_precision = sum(precision) / len(precision)\n",
    "    macro_recall = sum(recall) / len(recall)\n",
    "    macro_fpr = sum(fpr) / len(fpr)\n",
    "\n",
    "    return {\n",
    "        \"Accuracy\": accuracy,\n",
    "        \"Precision\": precision,\n",
    "        \"Recall\": recall,\n",
    "        \"FPR\": fpr,\n",
    "        \"Macro Precision\": macro_precision,\n",
    "        \"Macro Recall\": macro_recall,\n",
    "        \"Macro FPR\": macro_fpr\n",
    "    }"
   ]
  },
  {
   "cell_type": "code",
   "execution_count": 6,
   "metadata": {
    "id": "q8AGX_UtKa-s"
   },
   "outputs": [],
   "source": [
    "import matplotlib.pyplot as plt\n",
    "\n",
    "def plot_metrics(metrics):\n",
    "    # Extract the classes and their corresponding precision, recall, and accuracy\n",
    "    classes = range(len(metrics['Precision']))\n",
    "    precision = metrics['Precision']\n",
    "    recall = metrics['Recall']\n",
    "    accuracy = metrics['Accuracy']\n",
    "\n",
    "    # Create subplots\n",
    "    fig, axes = plt.subplots(nrows=1, ncols=3, figsize=(15, 5))\n",
    "\n",
    "    # Plot Precision\n",
    "    axes[0].bar(classes, precision, tick_label=classes)\n",
    "    axes[0].set_title('Precision')\n",
    "    axes[0].set_xlabel('Class')\n",
    "    axes[0].set_ylabel('Precision')\n",
    "\n",
    "    # Plot Recall\n",
    "    axes[1].bar(classes, recall, tick_label=classes)\n",
    "    axes[1].set_title('Recall')\n",
    "    axes[1].set_xlabel('Class')\n",
    "    axes[1].set_ylabel('Recall')\n",
    "\n",
    "    # Plot Accuracy\n",
    "    axes[2].bar(['Accuracy'], [accuracy])\n",
    "    axes[2].set_title('Accuracy')\n",
    "    axes[2].set_ylabel('Accuracy')\n",
    "\n",
    "    plt.tight_layout()\n",
    "    plt.show()"
   ]
  },
  {
   "cell_type": "markdown",
   "metadata": {
    "id": "5_6KBEWzPBQJ"
   },
   "source": [
    "AutoEncoder"
   ]
  },
  {
   "cell_type": "code",
   "execution_count": null,
   "metadata": {
    "colab": {
     "base_uri": "https://localhost:8080/"
    },
    "id": "yryzKeibhNfe",
    "outputId": "6983d0c9-d136-4e36-9ee4-bf4917b085ed"
   },
   "outputs": [],
   "source": [
    "import tensorflow as tf\n",
    "\n",
    "input_dim = fex_train.shape[1]\n",
    "input_layer = tf.keras.layers.Input(shape=(input_dim,))\n",
    "hidden_layer = tf.keras.layers.Dense(40, activation='relu')(input_layer)\n",
    "output_layer = tf.keras.layers.Dense(input_dim, activation='sigmoid')(hidden_layer)\n",
    "autoencoder = tf.keras.models.Model(input_layer, output_layer)\n",
    "\n",
    "# Compile the model\n",
    "autoencoder.compile(optimizer='adam', loss='mean_squared_error')\n",
    "\n",
    "# Train the autoencoder\n",
    "autoencoder.fit(fex_train, fex_train, epochs=50, batch_size=32)"
   ]
  },
  {
   "cell_type": "markdown",
   "metadata": {
    "id": "hOrAjf_qVlJJ"
   },
   "source": [
    "Validation"
   ]
  },
  {
   "cell_type": "code",
   "execution_count": null,
   "metadata": {
    "colab": {
     "base_uri": "https://localhost:8080/"
    },
    "id": "LabuzXZ1iFbb",
    "outputId": "66087741-ac33-49b0-9f57-7b8e27ecadd8"
   },
   "outputs": [],
   "source": [
    "reconstructed_test_data = autoencoder.predict(fex_valid)\n",
    "reconstruction_error = tf.reduce_mean(tf.square(fex_valid - reconstructed_test_data), axis=1)"
   ]
  },
  {
   "cell_type": "code",
   "execution_count": null,
   "metadata": {
    "colab": {
     "base_uri": "https://localhost:8080/"
    },
    "id": "CNbh9qupIpMi",
    "outputId": "f1df5e45-a05d-4544-8d2a-2b22aa1e3b2f"
   },
   "outputs": [],
   "source": [
    "predictions = reconstruction_error > 0.95\n",
    "print(predictions)"
   ]
  },
  {
   "cell_type": "code",
   "execution_count": null,
   "metadata": {
    "colab": {
     "base_uri": "https://localhost:8080/",
     "height": 564
    },
    "id": "MY1XDSfxIO7c",
    "outputId": "3cf68414-359c-4460-bdde-8a8dea51c0a6"
   },
   "outputs": [],
   "source": [
    "import matplotlib.pyplot as plt\n",
    "\n",
    "plt.figure(figsize=(8, 6))\n",
    "plt.hist(reconstruction_error, bins=50, density=True, alpha=0.6, color='b')\n",
    "plt.xlabel(\"Reconstruction Error\")\n",
    "plt.ylabel(\"Density\")\n",
    "plt.title(\"Reconstruction Error Distribution\")\n",
    "plt.show()"
   ]
  },
  {
   "cell_type": "markdown",
   "metadata": {
    "id": "6PQ9t5phVXOy"
   },
   "source": [
    "Decision Tree"
   ]
  },
  {
   "cell_type": "code",
   "execution_count": null,
   "metadata": {
    "id": "uMmPYnPNVZwT"
   },
   "outputs": [],
   "source": [
    "from sklearn.tree import DecisionTreeClassifier as DT\n",
    "\n",
    "class DecisionTree():\n",
    "    model = any\n",
    "\n",
    "    def create_model(self):\n",
    "        self.model = DT(\n",
    "            criterion = 'gini',\n",
    "            splitter = 'best',\n",
    "            max_depth = 100,\n",
    "            min_samples_split = 2,\n",
    "            min_samples_leaf = 1\n",
    "        )\n",
    "\n",
    "    def train_model(self, trainset):\n",
    "        data, label = trainset\n",
    "        self.model.fit(data, label)\n",
    "\n",
    "    def do_prediction(self, data):\n",
    "        return self.model.predict(data)\n",
    "\n",
    "    def __init__(self) -> None:\n",
    "        self.create_model()\n",
    "\n",
    "trainset = [fex_train, fey_train]\n",
    "dtm = DecisionTree()\n",
    "dtm.train_model(trainset)"
   ]
  },
  {
   "cell_type": "markdown",
   "metadata": {
    "id": "WxAC-xOkVovl"
   },
   "source": [
    "Validation"
   ]
  },
  {
   "cell_type": "code",
   "execution_count": null,
   "metadata": {
    "colab": {
     "base_uri": "https://localhost:8080/",
     "height": 507
    },
    "id": "1W65RNdYVovl",
    "outputId": "0b09adf1-650f-4dbd-c26b-f36d6971f138"
   },
   "outputs": [],
   "source": [
    "predictions = dtm.do_prediction(fex_valid)\n",
    "plot_metrics(evaluate_multiclass_classification(fey_valid, predictions))"
   ]
  },
  {
   "cell_type": "markdown",
   "metadata": {
    "id": "ic1pIKseVZ7K"
   },
   "source": [
    "Gaussian NB"
   ]
  },
  {
   "cell_type": "code",
   "execution_count": null,
   "metadata": {
    "id": "IB4oBeW8Vbn6"
   },
   "outputs": [],
   "source": [
    "from sklearn.naive_bayes import GaussianNB as GNB\n",
    "\n",
    "class GaussionNaiveBayes():\n",
    "    model = any\n",
    "\n",
    "    def create_model(self):\n",
    "        self.model = GNB()\n",
    "\n",
    "    def train_model(self, trainset):\n",
    "        data, label = trainset\n",
    "        self.model.fit(data, label)\n",
    "\n",
    "    def do_prediction(self, data):\n",
    "        return self.model.predict(data)\n",
    "\n",
    "    def __init__(self) -> None:\n",
    "        self.create_model()\n",
    "\n",
    "gnb = GaussionNaiveBayes()\n",
    "gnb.train_model(trainset)"
   ]
  },
  {
   "cell_type": "markdown",
   "metadata": {
    "id": "Q0WaWnmyVpJP"
   },
   "source": [
    "Validation"
   ]
  },
  {
   "cell_type": "code",
   "execution_count": null,
   "metadata": {
    "colab": {
     "base_uri": "https://localhost:8080/",
     "height": 507
    },
    "id": "Ame3Y-2DVpJP",
    "outputId": "babb7bf9-9b0e-44ac-fa58-0e2ed8d45a0d"
   },
   "outputs": [],
   "source": [
    "predictions = gnb.do_prediction(fex_valid)\n",
    "plot_metrics(evaluate_multiclass_classification(fey_valid, predictions))"
   ]
  },
  {
   "cell_type": "markdown",
   "metadata": {
    "id": "uHpq2KZ0Vb2i"
   },
   "source": [
    "LDA"
   ]
  },
  {
   "cell_type": "code",
   "execution_count": null,
   "metadata": {
    "id": "13AM7dcLVdIa"
   },
   "outputs": [],
   "source": [
    "from sklearn.discriminant_analysis import LinearDiscriminantAnalysis as LDA\n",
    "\n",
    "class LinearDiscriminantAnalysis():\n",
    "    model = any\n",
    "\n",
    "    def create_model(self):\n",
    "        self.model = LDA(\n",
    "            n_components = None,\n",
    "            priors = None,\n",
    "            shrinkage = None,\n",
    "            solver = 'svd',\n",
    "            store_covariance = False,\n",
    "            tol = 0.0001\n",
    "        )\n",
    "\n",
    "    def train_model(self, trainset):\n",
    "        data, label = trainset\n",
    "        self.model.fit(data, label)\n",
    "\n",
    "    def do_prediction(self, data):\n",
    "        return self.model.predict(data)\n",
    "\n",
    "    def __init__(self) -> None:\n",
    "        self.create_model()\n",
    "\n",
    "lda = LinearDiscriminantAnalysis()\n",
    "lda.train_model(trainset)"
   ]
  },
  {
   "cell_type": "markdown",
   "metadata": {
    "id": "nQmRBPXFVpb0"
   },
   "source": [
    "Validation"
   ]
  },
  {
   "cell_type": "code",
   "execution_count": null,
   "metadata": {
    "colab": {
     "base_uri": "https://localhost:8080/",
     "height": 507
    },
    "id": "r8kVDsDNVpb0",
    "outputId": "68caedab-6068-497b-bde1-1346dcaea6b9"
   },
   "outputs": [],
   "source": [
    "predictions = lda.do_prediction(fex_valid)\n",
    "plot_metrics(evaluate_multiclass_classification(fey_valid, predictions))"
   ]
  },
  {
   "cell_type": "markdown",
   "metadata": {
    "id": "jVcZojEIVdVj"
   },
   "source": [
    "LogReg"
   ]
  },
  {
   "cell_type": "code",
   "execution_count": null,
   "metadata": {
    "colab": {
     "base_uri": "https://localhost:8080/"
    },
    "id": "U4FIBZ-wVe7p",
    "outputId": "b061175d-eaf1-44b2-b9d1-b606f7db1685"
   },
   "outputs": [],
   "source": [
    "from sklearn.linear_model import LogisticRegression as LR\n",
    "\n",
    "class LogisticRegression():\n",
    "    model = any\n",
    "\n",
    "    def create_model(self):\n",
    "        self.model = LR(\n",
    "            penalty = 'l2',\n",
    "            dual = False,\n",
    "            tol = 0.0001,\n",
    "            C = 1.0,\n",
    "            fit_intercept = True,\n",
    "            intercept_scaling = 1,\n",
    "            solver = 'sag',\n",
    "            max_iter = 100,\n",
    "            multi_class = 'ovr',\n",
    "            verbose = 0,\n",
    "            warm_start = False,\n",
    "            l1_ratio = None\n",
    "        )\n",
    "\n",
    "    def train_model(self, trainset):\n",
    "        data, label = trainset\n",
    "        self.model.fit(data, label)\n",
    "\n",
    "    def do_prediction(self, data):\n",
    "        return self.model.predict(data)\n",
    "\n",
    "    def __init__(self) -> None:\n",
    "        self.create_model()\n",
    "\n",
    "lr = LogisticRegression()\n",
    "lr.train_model(trainset)"
   ]
  },
  {
   "cell_type": "markdown",
   "metadata": {
    "id": "amhnEaPCVpuK"
   },
   "source": [
    "Validation"
   ]
  },
  {
   "cell_type": "code",
   "execution_count": null,
   "metadata": {
    "colab": {
     "base_uri": "https://localhost:8080/",
     "height": 507
    },
    "id": "avHn96D0VpuL",
    "outputId": "da74efa0-5c88-4777-a054-ac7d6bc304a9"
   },
   "outputs": [],
   "source": [
    "predictions = lr.do_prediction(fex_valid)\n",
    "plot_metrics(evaluate_multiclass_classification(fey_valid, predictions))"
   ]
  },
  {
   "cell_type": "markdown",
   "metadata": {
    "id": "KEyONNHMVfHq"
   },
   "source": [
    "RF"
   ]
  },
  {
   "cell_type": "code",
   "execution_count": null,
   "metadata": {
    "id": "cLLOWo1rVgGi"
   },
   "outputs": [],
   "source": [
    "from sklearn.ensemble import RandomForestClassifier as RF\n",
    "\n",
    "class RandomForest():\n",
    "    model = any\n",
    "\n",
    "    def create_model(self):\n",
    "        self.model = RF(\n",
    "            n_estimators = 10,\n",
    "            criterion = 'gini',\n",
    "            max_depth = 100\n",
    "        )\n",
    "\n",
    "    def train_model(self, trainset):\n",
    "        data, label = trainset\n",
    "        self.model.fit(data, label)\n",
    "\n",
    "    def do_prediction(self, data):\n",
    "        return self.model.predict(data)\n",
    "\n",
    "    def __init__(self) -> None:\n",
    "        self.create_model()\n",
    "\n",
    "rf = RandomForest()\n",
    "rf.train_model(trainset)"
   ]
  },
  {
   "cell_type": "markdown",
   "metadata": {
    "id": "0A_7hY9PVp_s"
   },
   "source": [
    "Validation"
   ]
  },
  {
   "cell_type": "code",
   "execution_count": null,
   "metadata": {
    "colab": {
     "base_uri": "https://localhost:8080/",
     "height": 507
    },
    "id": "htbKdiyWVp_s",
    "outputId": "22918e01-c160-410e-e242-e78d1472ece6"
   },
   "outputs": [],
   "source": [
    "predictions = rf.do_prediction(fex_valid)\n",
    "plot_metrics(evaluate_multiclass_classification(fey_valid, predictions))"
   ]
  },
  {
   "cell_type": "markdown",
   "metadata": {
    "id": "FMztk4KAVgPK"
   },
   "source": [
    "SVM"
   ]
  },
  {
   "cell_type": "code",
   "execution_count": null,
   "metadata": {
    "id": "4cBlcqMaVhai"
   },
   "outputs": [],
   "source": [
    "from sklearn.svm import SVC\n",
    "\n",
    "class SupportVectorMachine():\n",
    "    model = any\n",
    "\n",
    "    def create_model(self):\n",
    "        self.model = SVC(\n",
    "            C = 1,\n",
    "            kernel = 'linear',\n",
    "            decision_function_shape = 'ovr',\n",
    "            max_iter = 1000\n",
    "        )\n",
    "\n",
    "    def train_model(self, trainset):\n",
    "        data, label = trainset\n",
    "        self.model.fit(data, label)\n",
    "\n",
    "    def do_prediction(self, data):\n",
    "        return self.model.predict(data)\n",
    "\n",
    "    def __init__(self) -> None:\n",
    "        self.create_model()\n",
    "\n",
    "svm = SupportVectorMachine()\n",
    "svm.train_model(trainset)"
   ]
  },
  {
   "cell_type": "markdown",
   "metadata": {
    "id": "FFDpIUY9VqVP"
   },
   "source": [
    "Validation"
   ]
  },
  {
   "cell_type": "code",
   "execution_count": null,
   "metadata": {
    "id": "eU1h9FdFVqVP"
   },
   "outputs": [],
   "source": [
    "predictions = svm.do_prediction(fex_valid)\n",
    "plot_metrics(evaluate_multiclass_classification(fey_valid, predictions))"
   ]
  }
 ],
 "metadata": {
  "colab": {
   "provenance": []
  },
  "kernelspec": {
   "display_name": "advnet",
   "language": "python",
   "name": "advnet"
  },
  "language_info": {
   "codemirror_mode": {
    "name": "ipython",
    "version": 3
   },
   "file_extension": ".py",
   "mimetype": "text/x-python",
   "name": "python",
   "nbconvert_exporter": "python",
   "pygments_lexer": "ipython3",
   "version": "3.10.12"
  }
 },
 "nbformat": 4,
 "nbformat_minor": 1
}
