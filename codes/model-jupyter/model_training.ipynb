{
  "nbformat": 4,
  "nbformat_minor": 0,
  "metadata": {
    "colab": {
      "provenance": []
    },
    "kernelspec": {
      "name": "python3",
      "display_name": "Python 3"
    },
    "language_info": {
      "name": "python"
    }
  },
  "cells": [
    {
      "cell_type": "markdown",
      "source": [
        "prep and load data"
      ],
      "metadata": {
        "id": "YMYrIJaOPC-5"
      }
    },
    {
      "cell_type": "code",
      "source": [
        "import pandas as pd\n",
        "import numpy as np\n",
        "import torch\n",
        "from sklearn.metrics import confusion_matrix\n",
        "from sklearn.metrics import precision_score, recall_score, accuracy_score\n",
        "from sklearn import preprocessing\n",
        "from sklearn.preprocessing import StandardScaler\n",
        "from sklearn.model_selection import train_test_split\n",
        "from torch.utils.data import (DataLoader, RandomSampler, SequentialSampler,\n",
        "                              TensorDataset)\n",
        "from google.colab import drive\n",
        "drive.mount('/content/drive')"
      ],
      "metadata": {
        "colab": {
          "base_uri": "https://localhost:8080/"
        },
        "id": "nmDTxG_KPCyZ",
        "outputId": "4666ee2d-8381-4c83-e8a2-9d223351ae3b"
      },
      "execution_count": 1,
      "outputs": [
        {
          "output_type": "stream",
          "name": "stdout",
          "text": [
            "Mounted at /content/drive\n"
          ]
        }
      ]
    },
    {
      "cell_type": "code",
      "source": [
        "from sklearn_pandas import DataFrameMapper\n",
        "\n",
        "dataset = pd.read_csv(\"/content/drive/MyDrive/Colab Notebooks/iotid20.csv\")\n",
        "batch_size = 64\n",
        "fe_data = dataset.copy()\n",
        "fe_data = fe_data.drop([\"Label\", \"Sub_Cat\"], axis = 1)\n",
        "le = preprocessing.LabelEncoder()\n",
        "for column_name in fe_data.columns:\n",
        "    if fe_data[column_name].dtype == object:\n",
        "        fe_data[column_name] = le.fit_transform(fe_data[column_name])\n",
        "    else:\n",
        "        pass\n",
        "fe_data.replace([np.inf, -np.inf], np.nan, inplace=True)\n",
        "fe_data.dropna(inplace=True)\n",
        "fe_datay = fe_data.Cat\n",
        "fe_data = fe_data.drop([\"Cat\"], axis = 1)\n",
        "scaler = StandardScaler()\n",
        "mapper = DataFrameMapper([(fe_data.columns, StandardScaler())])\n",
        "scaled_features = mapper.fit_transform(fe_data.copy(), 4)\n",
        "scaled_features_df = pd.DataFrame(scaled_features, index=fe_data.index, columns=fe_data.columns)\n",
        "fe_datax = scaled_features_df\n",
        "fex_train, fex_valid, fey_train, fey_valid = train_test_split(fe_datax, fe_datay, test_size = 0.3, random_state = 7)"
      ],
      "metadata": {
        "id": "55JqkoILPcnT"
      },
      "execution_count": 2,
      "outputs": []
    },
    {
      "cell_type": "code",
      "source": [
        "fe_datax.head()"
      ],
      "metadata": {
        "colab": {
          "base_uri": "https://localhost:8080/",
          "height": 255
        },
        "id": "IQvMr-vPZXK7",
        "outputId": "b90f625c-370c-4d49-ea63-bbf63f60805e"
      },
      "execution_count": 3,
      "outputs": [
        {
          "output_type": "execute_result",
          "data": {
            "text/plain": [
              "    Flow_ID    Src_IP  Src_Port    Dst_IP  Dst_Port  Protocol  Timestamp  \\\n",
              "0 -0.736911  0.250293 -1.011778 -0.125878 -0.358338  1.307488   0.773641   \n",
              "1 -0.250776  1.113764 -1.328144 -0.187599 -0.902186 -0.737598   0.941439   \n",
              "2 -0.725363  0.250589  0.716565 -0.187599 -0.419918 -0.737598  -0.638660   \n",
              "3 -0.724750  0.250589  0.726152 -0.187599 -0.419918 -0.737598  -1.928109   \n",
              "4 -1.294735  0.250095  0.070808  2.219526 -0.825511  1.307488  -1.679408   \n",
              "\n",
              "   Flow_Duration  Tot_Fwd_Pkts  Tot_Bwd_Pkts  ...  Fwd_Act_Data_Pkts  \\\n",
              "0      -0.160332     -0.156791     -0.384331  ...          -0.117722   \n",
              "1       1.336352     -0.156791      0.435478  ...          -0.348456   \n",
              "2      -0.141462     -0.388745      1.255288  ...          -0.348456   \n",
              "3      -0.138603     -0.388745      0.435478  ...          -0.348456   \n",
              "4      -0.138031      0.075163     -0.384331  ...           0.113012   \n",
              "\n",
              "   Fwd_Seg_Size_Min  Active_Mean  Active_Std  Active_Max  Active_Min  \\\n",
              "0               0.0    -0.055323   -0.017058   -0.047788   -0.054019   \n",
              "1               0.0    -0.055323   -0.017058   -0.047788   -0.054019   \n",
              "2               0.0    -0.055323   -0.017058   -0.047788   -0.054019   \n",
              "3               0.0    -0.055323   -0.017058   -0.047788   -0.054019   \n",
              "4               0.0    -0.055323   -0.017058   -0.047788   -0.054019   \n",
              "\n",
              "   Idle_Mean  Idle_Std  Idle_Max  Idle_Min  \n",
              "0  -0.202409 -0.045456 -0.169801 -0.203131  \n",
              "1   1.018291  1.914911  1.287665  0.304516  \n",
              "2  -0.204538 -0.044843 -0.171196 -0.205719  \n",
              "3  -0.166450 -0.045456 -0.143295 -0.163803  \n",
              "4  -0.201699 -0.044843 -0.169103 -0.202614  \n",
              "\n",
              "[5 rows x 83 columns]"
            ],
            "text/html": [
              "\n",
              "  <div id=\"df-5921ab01-9d24-4584-90dc-e41fd564a703\" class=\"colab-df-container\">\n",
              "    <div>\n",
              "<style scoped>\n",
              "    .dataframe tbody tr th:only-of-type {\n",
              "        vertical-align: middle;\n",
              "    }\n",
              "\n",
              "    .dataframe tbody tr th {\n",
              "        vertical-align: top;\n",
              "    }\n",
              "\n",
              "    .dataframe thead th {\n",
              "        text-align: right;\n",
              "    }\n",
              "</style>\n",
              "<table border=\"1\" class=\"dataframe\">\n",
              "  <thead>\n",
              "    <tr style=\"text-align: right;\">\n",
              "      <th></th>\n",
              "      <th>Flow_ID</th>\n",
              "      <th>Src_IP</th>\n",
              "      <th>Src_Port</th>\n",
              "      <th>Dst_IP</th>\n",
              "      <th>Dst_Port</th>\n",
              "      <th>Protocol</th>\n",
              "      <th>Timestamp</th>\n",
              "      <th>Flow_Duration</th>\n",
              "      <th>Tot_Fwd_Pkts</th>\n",
              "      <th>Tot_Bwd_Pkts</th>\n",
              "      <th>...</th>\n",
              "      <th>Fwd_Act_Data_Pkts</th>\n",
              "      <th>Fwd_Seg_Size_Min</th>\n",
              "      <th>Active_Mean</th>\n",
              "      <th>Active_Std</th>\n",
              "      <th>Active_Max</th>\n",
              "      <th>Active_Min</th>\n",
              "      <th>Idle_Mean</th>\n",
              "      <th>Idle_Std</th>\n",
              "      <th>Idle_Max</th>\n",
              "      <th>Idle_Min</th>\n",
              "    </tr>\n",
              "  </thead>\n",
              "  <tbody>\n",
              "    <tr>\n",
              "      <th>0</th>\n",
              "      <td>-0.736911</td>\n",
              "      <td>0.250293</td>\n",
              "      <td>-1.011778</td>\n",
              "      <td>-0.125878</td>\n",
              "      <td>-0.358338</td>\n",
              "      <td>1.307488</td>\n",
              "      <td>0.773641</td>\n",
              "      <td>-0.160332</td>\n",
              "      <td>-0.156791</td>\n",
              "      <td>-0.384331</td>\n",
              "      <td>...</td>\n",
              "      <td>-0.117722</td>\n",
              "      <td>0.0</td>\n",
              "      <td>-0.055323</td>\n",
              "      <td>-0.017058</td>\n",
              "      <td>-0.047788</td>\n",
              "      <td>-0.054019</td>\n",
              "      <td>-0.202409</td>\n",
              "      <td>-0.045456</td>\n",
              "      <td>-0.169801</td>\n",
              "      <td>-0.203131</td>\n",
              "    </tr>\n",
              "    <tr>\n",
              "      <th>1</th>\n",
              "      <td>-0.250776</td>\n",
              "      <td>1.113764</td>\n",
              "      <td>-1.328144</td>\n",
              "      <td>-0.187599</td>\n",
              "      <td>-0.902186</td>\n",
              "      <td>-0.737598</td>\n",
              "      <td>0.941439</td>\n",
              "      <td>1.336352</td>\n",
              "      <td>-0.156791</td>\n",
              "      <td>0.435478</td>\n",
              "      <td>...</td>\n",
              "      <td>-0.348456</td>\n",
              "      <td>0.0</td>\n",
              "      <td>-0.055323</td>\n",
              "      <td>-0.017058</td>\n",
              "      <td>-0.047788</td>\n",
              "      <td>-0.054019</td>\n",
              "      <td>1.018291</td>\n",
              "      <td>1.914911</td>\n",
              "      <td>1.287665</td>\n",
              "      <td>0.304516</td>\n",
              "    </tr>\n",
              "    <tr>\n",
              "      <th>2</th>\n",
              "      <td>-0.725363</td>\n",
              "      <td>0.250589</td>\n",
              "      <td>0.716565</td>\n",
              "      <td>-0.187599</td>\n",
              "      <td>-0.419918</td>\n",
              "      <td>-0.737598</td>\n",
              "      <td>-0.638660</td>\n",
              "      <td>-0.141462</td>\n",
              "      <td>-0.388745</td>\n",
              "      <td>1.255288</td>\n",
              "      <td>...</td>\n",
              "      <td>-0.348456</td>\n",
              "      <td>0.0</td>\n",
              "      <td>-0.055323</td>\n",
              "      <td>-0.017058</td>\n",
              "      <td>-0.047788</td>\n",
              "      <td>-0.054019</td>\n",
              "      <td>-0.204538</td>\n",
              "      <td>-0.044843</td>\n",
              "      <td>-0.171196</td>\n",
              "      <td>-0.205719</td>\n",
              "    </tr>\n",
              "    <tr>\n",
              "      <th>3</th>\n",
              "      <td>-0.724750</td>\n",
              "      <td>0.250589</td>\n",
              "      <td>0.726152</td>\n",
              "      <td>-0.187599</td>\n",
              "      <td>-0.419918</td>\n",
              "      <td>-0.737598</td>\n",
              "      <td>-1.928109</td>\n",
              "      <td>-0.138603</td>\n",
              "      <td>-0.388745</td>\n",
              "      <td>0.435478</td>\n",
              "      <td>...</td>\n",
              "      <td>-0.348456</td>\n",
              "      <td>0.0</td>\n",
              "      <td>-0.055323</td>\n",
              "      <td>-0.017058</td>\n",
              "      <td>-0.047788</td>\n",
              "      <td>-0.054019</td>\n",
              "      <td>-0.166450</td>\n",
              "      <td>-0.045456</td>\n",
              "      <td>-0.143295</td>\n",
              "      <td>-0.163803</td>\n",
              "    </tr>\n",
              "    <tr>\n",
              "      <th>4</th>\n",
              "      <td>-1.294735</td>\n",
              "      <td>0.250095</td>\n",
              "      <td>0.070808</td>\n",
              "      <td>2.219526</td>\n",
              "      <td>-0.825511</td>\n",
              "      <td>1.307488</td>\n",
              "      <td>-1.679408</td>\n",
              "      <td>-0.138031</td>\n",
              "      <td>0.075163</td>\n",
              "      <td>-0.384331</td>\n",
              "      <td>...</td>\n",
              "      <td>0.113012</td>\n",
              "      <td>0.0</td>\n",
              "      <td>-0.055323</td>\n",
              "      <td>-0.017058</td>\n",
              "      <td>-0.047788</td>\n",
              "      <td>-0.054019</td>\n",
              "      <td>-0.201699</td>\n",
              "      <td>-0.044843</td>\n",
              "      <td>-0.169103</td>\n",
              "      <td>-0.202614</td>\n",
              "    </tr>\n",
              "  </tbody>\n",
              "</table>\n",
              "<p>5 rows × 83 columns</p>\n",
              "</div>\n",
              "    <div class=\"colab-df-buttons\">\n",
              "\n",
              "  <div class=\"colab-df-container\">\n",
              "    <button class=\"colab-df-convert\" onclick=\"convertToInteractive('df-5921ab01-9d24-4584-90dc-e41fd564a703')\"\n",
              "            title=\"Convert this dataframe to an interactive table.\"\n",
              "            style=\"display:none;\">\n",
              "\n",
              "  <svg xmlns=\"http://www.w3.org/2000/svg\" height=\"24px\" viewBox=\"0 -960 960 960\">\n",
              "    <path d=\"M120-120v-720h720v720H120Zm60-500h600v-160H180v160Zm220 220h160v-160H400v160Zm0 220h160v-160H400v160ZM180-400h160v-160H180v160Zm440 0h160v-160H620v160ZM180-180h160v-160H180v160Zm440 0h160v-160H620v160Z\"/>\n",
              "  </svg>\n",
              "    </button>\n",
              "\n",
              "  <style>\n",
              "    .colab-df-container {\n",
              "      display:flex;\n",
              "      gap: 12px;\n",
              "    }\n",
              "\n",
              "    .colab-df-convert {\n",
              "      background-color: #E8F0FE;\n",
              "      border: none;\n",
              "      border-radius: 50%;\n",
              "      cursor: pointer;\n",
              "      display: none;\n",
              "      fill: #1967D2;\n",
              "      height: 32px;\n",
              "      padding: 0 0 0 0;\n",
              "      width: 32px;\n",
              "    }\n",
              "\n",
              "    .colab-df-convert:hover {\n",
              "      background-color: #E2EBFA;\n",
              "      box-shadow: 0px 1px 2px rgba(60, 64, 67, 0.3), 0px 1px 3px 1px rgba(60, 64, 67, 0.15);\n",
              "      fill: #174EA6;\n",
              "    }\n",
              "\n",
              "    .colab-df-buttons div {\n",
              "      margin-bottom: 4px;\n",
              "    }\n",
              "\n",
              "    [theme=dark] .colab-df-convert {\n",
              "      background-color: #3B4455;\n",
              "      fill: #D2E3FC;\n",
              "    }\n",
              "\n",
              "    [theme=dark] .colab-df-convert:hover {\n",
              "      background-color: #434B5C;\n",
              "      box-shadow: 0px 1px 3px 1px rgba(0, 0, 0, 0.15);\n",
              "      filter: drop-shadow(0px 1px 2px rgba(0, 0, 0, 0.3));\n",
              "      fill: #FFFFFF;\n",
              "    }\n",
              "  </style>\n",
              "\n",
              "    <script>\n",
              "      const buttonEl =\n",
              "        document.querySelector('#df-5921ab01-9d24-4584-90dc-e41fd564a703 button.colab-df-convert');\n",
              "      buttonEl.style.display =\n",
              "        google.colab.kernel.accessAllowed ? 'block' : 'none';\n",
              "\n",
              "      async function convertToInteractive(key) {\n",
              "        const element = document.querySelector('#df-5921ab01-9d24-4584-90dc-e41fd564a703');\n",
              "        const dataTable =\n",
              "          await google.colab.kernel.invokeFunction('convertToInteractive',\n",
              "                                                    [key], {});\n",
              "        if (!dataTable) return;\n",
              "\n",
              "        const docLinkHtml = 'Like what you see? Visit the ' +\n",
              "          '<a target=\"_blank\" href=https://colab.research.google.com/notebooks/data_table.ipynb>data table notebook</a>'\n",
              "          + ' to learn more about interactive tables.';\n",
              "        element.innerHTML = '';\n",
              "        dataTable['output_type'] = 'display_data';\n",
              "        await google.colab.output.renderOutput(dataTable, element);\n",
              "        const docLink = document.createElement('div');\n",
              "        docLink.innerHTML = docLinkHtml;\n",
              "        element.appendChild(docLink);\n",
              "      }\n",
              "    </script>\n",
              "  </div>\n",
              "\n",
              "\n",
              "<div id=\"df-b6367495-72d8-49f9-a845-aec8c8060051\">\n",
              "  <button class=\"colab-df-quickchart\" onclick=\"quickchart('df-b6367495-72d8-49f9-a845-aec8c8060051')\"\n",
              "            title=\"Suggest charts.\"\n",
              "            style=\"display:none;\">\n",
              "\n",
              "<svg xmlns=\"http://www.w3.org/2000/svg\" height=\"24px\"viewBox=\"0 0 24 24\"\n",
              "     width=\"24px\">\n",
              "    <g>\n",
              "        <path d=\"M19 3H5c-1.1 0-2 .9-2 2v14c0 1.1.9 2 2 2h14c1.1 0 2-.9 2-2V5c0-1.1-.9-2-2-2zM9 17H7v-7h2v7zm4 0h-2V7h2v10zm4 0h-2v-4h2v4z\"/>\n",
              "    </g>\n",
              "</svg>\n",
              "  </button>\n",
              "\n",
              "<style>\n",
              "  .colab-df-quickchart {\n",
              "      --bg-color: #E8F0FE;\n",
              "      --fill-color: #1967D2;\n",
              "      --hover-bg-color: #E2EBFA;\n",
              "      --hover-fill-color: #174EA6;\n",
              "      --disabled-fill-color: #AAA;\n",
              "      --disabled-bg-color: #DDD;\n",
              "  }\n",
              "\n",
              "  [theme=dark] .colab-df-quickchart {\n",
              "      --bg-color: #3B4455;\n",
              "      --fill-color: #D2E3FC;\n",
              "      --hover-bg-color: #434B5C;\n",
              "      --hover-fill-color: #FFFFFF;\n",
              "      --disabled-bg-color: #3B4455;\n",
              "      --disabled-fill-color: #666;\n",
              "  }\n",
              "\n",
              "  .colab-df-quickchart {\n",
              "    background-color: var(--bg-color);\n",
              "    border: none;\n",
              "    border-radius: 50%;\n",
              "    cursor: pointer;\n",
              "    display: none;\n",
              "    fill: var(--fill-color);\n",
              "    height: 32px;\n",
              "    padding: 0;\n",
              "    width: 32px;\n",
              "  }\n",
              "\n",
              "  .colab-df-quickchart:hover {\n",
              "    background-color: var(--hover-bg-color);\n",
              "    box-shadow: 0 1px 2px rgba(60, 64, 67, 0.3), 0 1px 3px 1px rgba(60, 64, 67, 0.15);\n",
              "    fill: var(--button-hover-fill-color);\n",
              "  }\n",
              "\n",
              "  .colab-df-quickchart-complete:disabled,\n",
              "  .colab-df-quickchart-complete:disabled:hover {\n",
              "    background-color: var(--disabled-bg-color);\n",
              "    fill: var(--disabled-fill-color);\n",
              "    box-shadow: none;\n",
              "  }\n",
              "\n",
              "  .colab-df-spinner {\n",
              "    border: 2px solid var(--fill-color);\n",
              "    border-color: transparent;\n",
              "    border-bottom-color: var(--fill-color);\n",
              "    animation:\n",
              "      spin 1s steps(1) infinite;\n",
              "  }\n",
              "\n",
              "  @keyframes spin {\n",
              "    0% {\n",
              "      border-color: transparent;\n",
              "      border-bottom-color: var(--fill-color);\n",
              "      border-left-color: var(--fill-color);\n",
              "    }\n",
              "    20% {\n",
              "      border-color: transparent;\n",
              "      border-left-color: var(--fill-color);\n",
              "      border-top-color: var(--fill-color);\n",
              "    }\n",
              "    30% {\n",
              "      border-color: transparent;\n",
              "      border-left-color: var(--fill-color);\n",
              "      border-top-color: var(--fill-color);\n",
              "      border-right-color: var(--fill-color);\n",
              "    }\n",
              "    40% {\n",
              "      border-color: transparent;\n",
              "      border-right-color: var(--fill-color);\n",
              "      border-top-color: var(--fill-color);\n",
              "    }\n",
              "    60% {\n",
              "      border-color: transparent;\n",
              "      border-right-color: var(--fill-color);\n",
              "    }\n",
              "    80% {\n",
              "      border-color: transparent;\n",
              "      border-right-color: var(--fill-color);\n",
              "      border-bottom-color: var(--fill-color);\n",
              "    }\n",
              "    90% {\n",
              "      border-color: transparent;\n",
              "      border-bottom-color: var(--fill-color);\n",
              "    }\n",
              "  }\n",
              "</style>\n",
              "\n",
              "  <script>\n",
              "    async function quickchart(key) {\n",
              "      const quickchartButtonEl =\n",
              "        document.querySelector('#' + key + ' button');\n",
              "      quickchartButtonEl.disabled = true;  // To prevent multiple clicks.\n",
              "      quickchartButtonEl.classList.add('colab-df-spinner');\n",
              "      try {\n",
              "        const charts = await google.colab.kernel.invokeFunction(\n",
              "            'suggestCharts', [key], {});\n",
              "      } catch (error) {\n",
              "        console.error('Error during call to suggestCharts:', error);\n",
              "      }\n",
              "      quickchartButtonEl.classList.remove('colab-df-spinner');\n",
              "      quickchartButtonEl.classList.add('colab-df-quickchart-complete');\n",
              "    }\n",
              "    (() => {\n",
              "      let quickchartButtonEl =\n",
              "        document.querySelector('#df-b6367495-72d8-49f9-a845-aec8c8060051 button');\n",
              "      quickchartButtonEl.style.display =\n",
              "        google.colab.kernel.accessAllowed ? 'block' : 'none';\n",
              "    })();\n",
              "  </script>\n",
              "</div>\n",
              "    </div>\n",
              "  </div>\n"
            ]
          },
          "metadata": {},
          "execution_count": 3
        }
      ]
    },
    {
      "cell_type": "code",
      "source": [
        "fe_datay.unique()"
      ],
      "metadata": {
        "colab": {
          "base_uri": "https://localhost:8080/",
          "height": 176
        },
        "id": "VlpwAQxZL4cv",
        "outputId": "eb24680d-e57f-45aa-81b4-11c0878961ba"
      },
      "execution_count": null,
      "outputs": [
        {
          "output_type": "error",
          "ename": "NameError",
          "evalue": "ignored",
          "traceback": [
            "\u001b[0;31m---------------------------------------------------------------------------\u001b[0m",
            "\u001b[0;31mNameError\u001b[0m                                 Traceback (most recent call last)",
            "\u001b[0;32m<ipython-input-2-b218aa1881c2>\u001b[0m in \u001b[0;36m<cell line: 1>\u001b[0;34m()\u001b[0m\n\u001b[0;32m----> 1\u001b[0;31m \u001b[0mfe_datay\u001b[0m\u001b[0;34m.\u001b[0m\u001b[0munique\u001b[0m\u001b[0;34m(\u001b[0m\u001b[0;34m)\u001b[0m\u001b[0;34m\u001b[0m\u001b[0;34m\u001b[0m\u001b[0m\n\u001b[0m",
            "\u001b[0;31mNameError\u001b[0m: name 'fe_datay' is not defined"
          ]
        }
      ]
    },
    {
      "cell_type": "code",
      "source": [
        "dl_train = pd.concat([fex_train, fey_train])\n",
        "dl_test = pd.concat([fex_valid, fey_valid])\n",
        "d_train = torch.tensor(dl_train.values, dtype=torch.float32)\n",
        "d_test = torch.tensor(dl_test.values, dtype=torch.float32)\n",
        "dataloader = DataLoader(TensorDataset(d_train), batch_size = batch_size, shuffle = True)"
      ],
      "metadata": {
        "id": "XfFYgTFzZKs0"
      },
      "execution_count": 8,
      "outputs": []
    },
    {
      "cell_type": "markdown",
      "source": [
        "define reusable metric func"
      ],
      "metadata": {
        "id": "VUPlw_bT7BJP"
      }
    },
    {
      "cell_type": "code",
      "source": [
        "def evaluate_multiclass_classification(y_true, y_pred):\n",
        "    # Calculate accuracy\n",
        "    accuracy = accuracy_score(y_true, y_pred)\n",
        "\n",
        "    # Calculate confusion matrix\n",
        "    cm = confusion_matrix(y_true, y_pred)\n",
        "\n",
        "    # Calculate precision and recall for each class\n",
        "    precision = precision_score(y_true, y_pred, average=None)\n",
        "    recall = recall_score(y_true, y_pred, average=None)\n",
        "\n",
        "    # Calculate False Positive Rate (FPR) for each class\n",
        "    # FPR = FP / (FP + TN)\n",
        "    fpr = [cm[i, :].sum() - cm[i, i] / (cm[i, :].sum()) for i in range(len(cm))]\n",
        "\n",
        "    # Calculate macro-averaged precision, recall, and FPR\n",
        "    macro_precision = sum(precision) / len(precision)\n",
        "    macro_recall = sum(recall) / len(recall)\n",
        "    macro_fpr = sum(fpr) / len(fpr)\n",
        "\n",
        "    return {\n",
        "        \"Accuracy\": accuracy,\n",
        "        \"Precision\": precision,\n",
        "        \"Recall\": recall,\n",
        "        \"FPR\": fpr,\n",
        "        \"Macro Precision\": macro_precision,\n",
        "        \"Macro Recall\": macro_recall,\n",
        "        \"Macro FPR\": macro_fpr\n",
        "    }"
      ],
      "metadata": {
        "id": "lEyG7YOB7DCh"
      },
      "execution_count": 4,
      "outputs": []
    },
    {
      "cell_type": "code",
      "source": [
        "import matplotlib.pyplot as plt\n",
        "\n",
        "def plot_metrics(metrics):\n",
        "    # Extract the classes and their corresponding precision, recall, and accuracy\n",
        "    classes = range(len(metrics['Precision']))\n",
        "    precision = metrics['Precision']\n",
        "    recall = metrics['Recall']\n",
        "    accuracy = metrics['Accuracy']\n",
        "\n",
        "    # Create subplots\n",
        "    fig, axes = plt.subplots(nrows=1, ncols=3, figsize=(15, 5))\n",
        "\n",
        "    # Plot Precision\n",
        "    axes[0].bar(classes, precision, tick_label=classes)\n",
        "    axes[0].set_title('Precision')\n",
        "    axes[0].set_xlabel('Class')\n",
        "    axes[0].set_ylabel('Precision')\n",
        "\n",
        "    # Plot Recall\n",
        "    axes[1].bar(classes, recall, tick_label=classes)\n",
        "    axes[1].set_title('Recall')\n",
        "    axes[1].set_xlabel('Class')\n",
        "    axes[1].set_ylabel('Recall')\n",
        "\n",
        "    # Plot Accuracy\n",
        "    axes[2].bar(['Accuracy'], [accuracy])\n",
        "    axes[2].set_title('Accuracy')\n",
        "    axes[2].set_ylabel('Accuracy')\n",
        "\n",
        "    plt.tight_layout()\n",
        "    plt.show()"
      ],
      "metadata": {
        "id": "q8AGX_UtKa-s"
      },
      "execution_count": 13,
      "outputs": []
    },
    {
      "cell_type": "markdown",
      "source": [
        "AutoEncoder"
      ],
      "metadata": {
        "id": "5_6KBEWzPBQJ"
      }
    },
    {
      "cell_type": "code",
      "source": [
        "import tensorflow as tf\n",
        "\n",
        "input_dim = fex_train.shape[1]\n",
        "input_layer = tf.keras.layers.Input(shape=(input_dim,))\n",
        "hidden_layer = tf.keras.layers.Dense(40, activation='relu')(input_layer)\n",
        "output_layer = tf.keras.layers.Dense(input_dim, activation='sigmoid')(hidden_layer)\n",
        "autoencoder = tf.keras.models.Model(input_layer, output_layer)\n",
        "\n",
        "# Compile the model\n",
        "autoencoder.compile(optimizer='adam', loss='mean_squared_error')\n",
        "\n",
        "# Train the autoencoder\n",
        "autoencoder.fit(fex_train, fex_train, epochs=50, batch_size=32)"
      ],
      "metadata": {
        "colab": {
          "base_uri": "https://localhost:8080/"
        },
        "id": "yryzKeibhNfe",
        "outputId": "6983d0c9-d136-4e36-9ee4-bf4917b085ed"
      },
      "execution_count": 5,
      "outputs": [
        {
          "output_type": "stream",
          "name": "stdout",
          "text": [
            "Epoch 1/50\n",
            "13681/13681 [==============================] - 25s 2ms/step - loss: 0.6435\n",
            "Epoch 2/50\n",
            "13681/13681 [==============================] - 27s 2ms/step - loss: 0.6364\n",
            "Epoch 3/50\n",
            "13681/13681 [==============================] - 25s 2ms/step - loss: 0.6362\n",
            "Epoch 4/50\n",
            "13681/13681 [==============================] - 27s 2ms/step - loss: 0.6361\n",
            "Epoch 5/50\n",
            "13681/13681 [==============================] - 24s 2ms/step - loss: 0.6361\n",
            "Epoch 6/50\n",
            "13681/13681 [==============================] - 24s 2ms/step - loss: 0.6360\n",
            "Epoch 7/50\n",
            "13681/13681 [==============================] - 26s 2ms/step - loss: 0.6360\n",
            "Epoch 8/50\n",
            "13681/13681 [==============================] - 24s 2ms/step - loss: 0.6359\n",
            "Epoch 9/50\n",
            "13681/13681 [==============================] - 24s 2ms/step - loss: 0.6359\n",
            "Epoch 10/50\n",
            "13681/13681 [==============================] - 25s 2ms/step - loss: 0.6359\n",
            "Epoch 11/50\n",
            "13681/13681 [==============================] - 23s 2ms/step - loss: 0.6359\n",
            "Epoch 12/50\n",
            "13681/13681 [==============================] - 24s 2ms/step - loss: 0.6359\n",
            "Epoch 13/50\n",
            "13681/13681 [==============================] - 24s 2ms/step - loss: 0.6359\n",
            "Epoch 14/50\n",
            "13681/13681 [==============================] - 23s 2ms/step - loss: 0.6359\n",
            "Epoch 15/50\n",
            "13681/13681 [==============================] - 24s 2ms/step - loss: 0.6359\n",
            "Epoch 16/50\n",
            "13681/13681 [==============================] - 25s 2ms/step - loss: 0.6359\n",
            "Epoch 17/50\n",
            "13681/13681 [==============================] - 23s 2ms/step - loss: 0.6358\n",
            "Epoch 18/50\n",
            "13681/13681 [==============================] - 25s 2ms/step - loss: 0.6358\n",
            "Epoch 19/50\n",
            "13681/13681 [==============================] - 26s 2ms/step - loss: 0.6358\n",
            "Epoch 20/50\n",
            "13681/13681 [==============================] - 24s 2ms/step - loss: 0.6358\n",
            "Epoch 21/50\n",
            "13681/13681 [==============================] - 24s 2ms/step - loss: 0.6358\n",
            "Epoch 22/50\n",
            "13681/13681 [==============================] - 24s 2ms/step - loss: 0.6358\n",
            "Epoch 23/50\n",
            "13681/13681 [==============================] - 25s 2ms/step - loss: 0.6358\n",
            "Epoch 24/50\n",
            "13681/13681 [==============================] - 24s 2ms/step - loss: 0.6358\n",
            "Epoch 25/50\n",
            "13681/13681 [==============================] - 24s 2ms/step - loss: 0.6358\n",
            "Epoch 26/50\n",
            "13681/13681 [==============================] - 23s 2ms/step - loss: 0.6358\n",
            "Epoch 27/50\n",
            "13681/13681 [==============================] - 26s 2ms/step - loss: 0.6358\n",
            "Epoch 28/50\n",
            "13681/13681 [==============================] - 24s 2ms/step - loss: 0.6358\n",
            "Epoch 29/50\n",
            "13681/13681 [==============================] - 24s 2ms/step - loss: 0.6358\n",
            "Epoch 30/50\n",
            "13681/13681 [==============================] - 24s 2ms/step - loss: 0.6358\n",
            "Epoch 31/50\n",
            "13681/13681 [==============================] - 25s 2ms/step - loss: 0.6358\n",
            "Epoch 32/50\n",
            "13681/13681 [==============================] - 23s 2ms/step - loss: 0.6358\n",
            "Epoch 33/50\n",
            "13681/13681 [==============================] - 24s 2ms/step - loss: 0.6358\n",
            "Epoch 34/50\n",
            "13681/13681 [==============================] - 25s 2ms/step - loss: 0.6358\n",
            "Epoch 35/50\n",
            "13681/13681 [==============================] - 25s 2ms/step - loss: 0.6358\n",
            "Epoch 36/50\n",
            "13681/13681 [==============================] - 24s 2ms/step - loss: 0.6358\n",
            "Epoch 37/50\n",
            "13681/13681 [==============================] - 25s 2ms/step - loss: 0.6358\n",
            "Epoch 38/50\n",
            "13681/13681 [==============================] - 26s 2ms/step - loss: 0.6358\n",
            "Epoch 39/50\n",
            "13681/13681 [==============================] - 23s 2ms/step - loss: 0.6358\n",
            "Epoch 40/50\n",
            "13681/13681 [==============================] - 24s 2ms/step - loss: 0.6358\n",
            "Epoch 41/50\n",
            "13681/13681 [==============================] - 25s 2ms/step - loss: 0.6358\n",
            "Epoch 42/50\n",
            "13681/13681 [==============================] - 23s 2ms/step - loss: 0.6358\n",
            "Epoch 43/50\n",
            "13681/13681 [==============================] - 25s 2ms/step - loss: 0.6358\n",
            "Epoch 44/50\n",
            "13681/13681 [==============================] - 24s 2ms/step - loss: 0.6358\n",
            "Epoch 45/50\n",
            "13681/13681 [==============================] - 24s 2ms/step - loss: 0.6358\n",
            "Epoch 46/50\n",
            "13681/13681 [==============================] - 26s 2ms/step - loss: 0.6358\n",
            "Epoch 47/50\n",
            "13681/13681 [==============================] - 25s 2ms/step - loss: 0.6358\n",
            "Epoch 48/50\n",
            "13681/13681 [==============================] - 24s 2ms/step - loss: 0.6358\n",
            "Epoch 49/50\n",
            "13681/13681 [==============================] - 25s 2ms/step - loss: 0.6358\n",
            "Epoch 50/50\n",
            "13681/13681 [==============================] - 26s 2ms/step - loss: 0.6358\n"
          ]
        },
        {
          "output_type": "execute_result",
          "data": {
            "text/plain": [
              "<keras.src.callbacks.History at 0x7ddbda861330>"
            ]
          },
          "metadata": {},
          "execution_count": 5
        }
      ]
    },
    {
      "cell_type": "markdown",
      "source": [
        "Validation"
      ],
      "metadata": {
        "id": "hOrAjf_qVlJJ"
      }
    },
    {
      "cell_type": "code",
      "source": [
        "reconstructed_test_data = autoencoder.predict(fex_valid)\n",
        "reconstruction_error = tf.reduce_mean(tf.square(fex_valid - reconstructed_test_data), axis=1)"
      ],
      "metadata": {
        "colab": {
          "base_uri": "https://localhost:8080/"
        },
        "id": "LabuzXZ1iFbb",
        "outputId": "66087741-ac33-49b0-9f57-7b8e27ecadd8"
      },
      "execution_count": 6,
      "outputs": [
        {
          "output_type": "stream",
          "name": "stdout",
          "text": [
            "5864/5864 [==============================] - 9s 1ms/step\n"
          ]
        }
      ]
    },
    {
      "cell_type": "code",
      "source": [
        "predictions = reconstruction_error > 0.95\n",
        "print(predictions)"
      ],
      "metadata": {
        "colab": {
          "base_uri": "https://localhost:8080/"
        },
        "id": "CNbh9qupIpMi",
        "outputId": "f1df5e45-a05d-4544-8d2a-2b22aa1e3b2f"
      },
      "execution_count": 7,
      "outputs": [
        {
          "output_type": "stream",
          "name": "stdout",
          "text": [
            "tf.Tensor([False False False ... False False False], shape=(187625,), dtype=bool)\n"
          ]
        }
      ]
    },
    {
      "cell_type": "code",
      "source": [
        "import matplotlib.pyplot as plt\n",
        "\n",
        "plt.figure(figsize=(8, 6))\n",
        "plt.hist(reconstruction_error, bins=50, density=True, alpha=0.6, color='b')\n",
        "plt.xlabel(\"Reconstruction Error\")\n",
        "plt.ylabel(\"Density\")\n",
        "plt.title(\"Reconstruction Error Distribution\")\n",
        "plt.show()"
      ],
      "metadata": {
        "colab": {
          "base_uri": "https://localhost:8080/",
          "height": 564
        },
        "id": "MY1XDSfxIO7c",
        "outputId": "3cf68414-359c-4460-bdde-8a8dea51c0a6"
      },
      "execution_count": 8,
      "outputs": [
        {
          "output_type": "display_data",
          "data": {
            "text/plain": [
              "<Figure size 800x600 with 1 Axes>"
            ],
            "image/png": "[encoded data removed]"
          },
          "metadata": {}
        }
      ]
    },
    {
      "cell_type": "markdown",
      "source": [
        "Decision Tree"
      ],
      "metadata": {
        "id": "6PQ9t5phVXOy"
      }
    },
    {
      "cell_type": "code",
      "source": [
        "from sklearn.tree import DecisionTreeClassifier as DT\n",
        "\n",
        "class DecisionTree():\n",
        "    model = any\n",
        "\n",
        "    def create_model(self):\n",
        "        self.model = DT(\n",
        "            criterion = 'gini',\n",
        "            splitter = 'best',\n",
        "            max_depth = 100,\n",
        "            min_samples_split = 2,\n",
        "            min_samples_leaf = 1\n",
        "        )\n",
        "\n",
        "    def train_model(self, trainset):\n",
        "        data, label = trainset\n",
        "        self.model.fit(data, label)\n",
        "\n",
        "    def do_prediction(self, data):\n",
        "        return self.model.predict(data)\n",
        "\n",
        "    def __init__(self) -> None:\n",
        "        self.create_model()\n",
        "\n",
        "trainset = [fex_train, fey_train]\n",
        "dtm = DecisionTree()\n",
        "dtm.train_model(trainset)"
      ],
      "metadata": {
        "id": "uMmPYnPNVZwT"
      },
      "execution_count": 16,
      "outputs": []
    },
    {
      "cell_type": "markdown",
      "source": [
        "Validation"
      ],
      "metadata": {
        "id": "WxAC-xOkVovl"
      }
    },
    {
      "cell_type": "code",
      "source": [
        "predictions = dtm.do_prediction(fex_valid)\n",
        "plot_metrics(evaluate_multiclass_classification(fey_valid, predictions))"
      ],
      "metadata": {
        "colab": {
          "base_uri": "https://localhost:8080/",
          "height": 507
        },
        "id": "1W65RNdYVovl",
        "outputId": "0b09adf1-650f-4dbd-c26b-f36d6971f138"
      },
      "execution_count": 17,
      "outputs": [
        {
          "output_type": "display_data",
          "data": {
            "text/plain": [
              "<Figure size 1500x500 with 3 Axes>"
            ],
            "image/png": "[encoded data removed]"
          },
          "metadata": {}
        }
      ]
    },
    {
      "cell_type": "markdown",
      "source": [
        "Gaussian NB"
      ],
      "metadata": {
        "id": "ic1pIKseVZ7K"
      }
    },
    {
      "cell_type": "code",
      "source": [
        "from sklearn.naive_bayes import GaussianNB as GNB\n",
        "\n",
        "class GaussionNaiveBayes():\n",
        "    model = any\n",
        "\n",
        "    def create_model(self):\n",
        "        self.model = GNB()\n",
        "\n",
        "    def train_model(self, trainset):\n",
        "        data, label = trainset\n",
        "        self.model.fit(data, label)\n",
        "\n",
        "    def do_prediction(self, data):\n",
        "        return self.model.predict(data)\n",
        "\n",
        "    def __init__(self) -> None:\n",
        "        self.create_model()\n",
        "\n",
        "gnb = GaussionNaiveBayes()\n",
        "gnb.train_model(trainset)"
      ],
      "metadata": {
        "id": "IB4oBeW8Vbn6"
      },
      "execution_count": 18,
      "outputs": []
    },
    {
      "cell_type": "markdown",
      "source": [
        "Validation"
      ],
      "metadata": {
        "id": "Q0WaWnmyVpJP"
      }
    },
    {
      "cell_type": "code",
      "source": [
        "predictions = gnb.do_prediction(fex_valid)\n",
        "plot_metrics(evaluate_multiclass_classification(fey_valid, predictions))"
      ],
      "metadata": {
        "colab": {
          "base_uri": "https://localhost:8080/",
          "height": 507
        },
        "id": "Ame3Y-2DVpJP",
        "outputId": "babb7bf9-9b0e-44ac-fa58-0e2ed8d45a0d"
      },
      "execution_count": 19,
      "outputs": [
        {
          "output_type": "display_data",
          "data": {
            "text/plain": [
              "<Figure size 1500x500 with 3 Axes>"
            ],
            "image/png": "[encoded data removed]"
          },
          "metadata": {}
        }
      ]
    },
    {
      "cell_type": "markdown",
      "source": [
        "LDA"
      ],
      "metadata": {
        "id": "uHpq2KZ0Vb2i"
      }
    },
    {
      "cell_type": "code",
      "source": [
        "from sklearn.discriminant_analysis import LinearDiscriminantAnalysis as LDA\n",
        "\n",
        "class LinearDiscriminantAnalysis():\n",
        "    model = any\n",
        "\n",
        "    def create_model(self):\n",
        "        self.model = LDA(\n",
        "            n_components = None,\n",
        "            priors = None,\n",
        "            shrinkage = None,\n",
        "            solver = 'svd',\n",
        "            store_covariance = False,\n",
        "            tol = 0.0001\n",
        "        )\n",
        "\n",
        "    def train_model(self, trainset):\n",
        "        data, label = trainset\n",
        "        self.model.fit(data, label)\n",
        "\n",
        "    def do_prediction(self, data):\n",
        "        return self.model.predict(data)\n",
        "\n",
        "    def __init__(self) -> None:\n",
        "        self.create_model()\n",
        "\n",
        "lda = LinearDiscriminantAnalysis()\n",
        "lda.train_model(trainset)"
      ],
      "metadata": {
        "id": "13AM7dcLVdIa"
      },
      "execution_count": 20,
      "outputs": []
    },
    {
      "cell_type": "markdown",
      "source": [
        "Validation"
      ],
      "metadata": {
        "id": "nQmRBPXFVpb0"
      }
    },
    {
      "cell_type": "code",
      "source": [
        "predictions = lda.do_prediction(fex_valid)\n",
        "plot_metrics(evaluate_multiclass_classification(fey_valid, predictions))"
      ],
      "metadata": {
        "colab": {
          "base_uri": "https://localhost:8080/",
          "height": 507
        },
        "id": "r8kVDsDNVpb0",
        "outputId": "68caedab-6068-497b-bde1-1346dcaea6b9"
      },
      "execution_count": 21,
      "outputs": [
        {
          "output_type": "display_data",
          "data": {
            "text/plain": [
              "<Figure size 1500x500 with 3 Axes>"
            ],
            "image/png": "[encoded data removed]"
          },
          "metadata": {}
        }
      ]
    },
    {
      "cell_type": "markdown",
      "source": [
        "LogReg"
      ],
      "metadata": {
        "id": "jVcZojEIVdVj"
      }
    },
    {
      "cell_type": "code",
      "source": [
        "from sklearn.linear_model import LogisticRegression as LR\n",
        "\n",
        "class LogisticRegression():\n",
        "    model = any\n",
        "\n",
        "    def create_model(self):\n",
        "        self.model = LR(\n",
        "            penalty = 'l2',\n",
        "            dual = False,\n",
        "            tol = 0.0001,\n",
        "            C = 1.0,\n",
        "            fit_intercept = True,\n",
        "            intercept_scaling = 1,\n",
        "            solver = 'sag',\n",
        "            max_iter = 100,\n",
        "            multi_class = 'ovr',\n",
        "            verbose = 0,\n",
        "            warm_start = False,\n",
        "            l1_ratio = None\n",
        "        )\n",
        "\n",
        "    def train_model(self, trainset):\n",
        "        data, label = trainset\n",
        "        self.model.fit(data, label)\n",
        "\n",
        "    def do_prediction(self, data):\n",
        "        return self.model.predict(data)\n",
        "\n",
        "    def __init__(self) -> None:\n",
        "        self.create_model()\n",
        "\n",
        "lr = LogisticRegression()\n",
        "lr.train_model(trainset)"
      ],
      "metadata": {
        "colab": {
          "base_uri": "https://localhost:8080/"
        },
        "id": "U4FIBZ-wVe7p",
        "outputId": "b061175d-eaf1-44b2-b9d1-b606f7db1685"
      },
      "execution_count": 22,
      "outputs": [
        {
          "output_type": "stream",
          "name": "stderr",
          "text": [
            "/usr/local/lib/python3.10/dist-packages/sklearn/linear_model/_sag.py:350: ConvergenceWarning: The max_iter was reached which means the coef_ did not converge\n",
            "  warnings.warn(\n",
            "/usr/local/lib/python3.10/dist-packages/sklearn/linear_model/_sag.py:350: ConvergenceWarning: The max_iter was reached which means the coef_ did not converge\n",
            "  warnings.warn(\n",
            "/usr/local/lib/python3.10/dist-packages/sklearn/linear_model/_sag.py:350: ConvergenceWarning: The max_iter was reached which means the coef_ did not converge\n",
            "  warnings.warn(\n",
            "/usr/local/lib/python3.10/dist-packages/sklearn/linear_model/_sag.py:350: ConvergenceWarning: The max_iter was reached which means the coef_ did not converge\n",
            "  warnings.warn(\n",
            "/usr/local/lib/python3.10/dist-packages/sklearn/linear_model/_sag.py:350: ConvergenceWarning: The max_iter was reached which means the coef_ did not converge\n",
            "  warnings.warn(\n"
          ]
        }
      ]
    },
    {
      "cell_type": "markdown",
      "source": [
        "Validation"
      ],
      "metadata": {
        "id": "amhnEaPCVpuK"
      }
    },
    {
      "cell_type": "code",
      "source": [
        "predictions = lr.do_prediction(fex_valid)\n",
        "plot_metrics(evaluate_multiclass_classification(fey_valid, predictions))"
      ],
      "metadata": {
        "colab": {
          "base_uri": "https://localhost:8080/",
          "height": 507
        },
        "id": "avHn96D0VpuL",
        "outputId": "da74efa0-5c88-4777-a054-ac7d6bc304a9"
      },
      "execution_count": 23,
      "outputs": [
        {
          "output_type": "display_data",
          "data": {
            "text/plain": [
              "<Figure size 1500x500 with 3 Axes>"
            ],
            "image/png": "[encoded data removed]"
          },
          "metadata": {}
        }
      ]
    },
    {
      "cell_type": "markdown",
      "source": [
        "RF"
      ],
      "metadata": {
        "id": "KEyONNHMVfHq"
      }
    },
    {
      "cell_type": "code",
      "source": [
        "from sklearn.ensemble import RandomForestClassifier as RF\n",
        "\n",
        "class RandomForest():\n",
        "    model = any\n",
        "\n",
        "    def create_model(self):\n",
        "        self.model = RF(\n",
        "            n_estimators = 10,\n",
        "            criterion = 'gini',\n",
        "            max_depth = 100\n",
        "        )\n",
        "\n",
        "    def train_model(self, trainset):\n",
        "        data, label = trainset\n",
        "        self.model.fit(data, label)\n",
        "\n",
        "    def do_prediction(self, data):\n",
        "        return self.model.predict(data)\n",
        "\n",
        "    def __init__(self) -> None:\n",
        "        self.create_model()\n",
        "\n",
        "rf = RandomForest()\n",
        "rf.train_model(trainset)"
      ],
      "metadata": {
        "id": "cLLOWo1rVgGi"
      },
      "execution_count": 24,
      "outputs": []
    },
    {
      "cell_type": "markdown",
      "source": [
        "Validation"
      ],
      "metadata": {
        "id": "0A_7hY9PVp_s"
      }
    },
    {
      "cell_type": "code",
      "source": [
        "predictions = rf.do_prediction(fex_valid)\n",
        "plot_metrics(evaluate_multiclass_classification(fey_valid, predictions))"
      ],
      "metadata": {
        "colab": {
          "base_uri": "https://localhost:8080/",
          "height": 507
        },
        "id": "htbKdiyWVp_s",
        "outputId": "22918e01-c160-410e-e242-e78d1472ece6"
      },
      "execution_count": 25,
      "outputs": [
        {
          "output_type": "display_data",
          "data": {
            "text/plain": [
              "<Figure size 1500x500 with 3 Axes>"
            ],
            "image/png": "[encoded data removed]"
          },
          "metadata": {}
        }
      ]
    },
    {
      "cell_type": "markdown",
      "source": [
        "SVM"
      ],
      "metadata": {
        "id": "FMztk4KAVgPK"
      }
    },
    {
      "cell_type": "code",
      "source": [
        "from sklearn.svm import SVC\n",
        "\n",
        "class SupportVectorMachine():\n",
        "    model = any\n",
        "\n",
        "    def create_model(self):\n",
        "        self.model = SVC(\n",
        "            C = 1,\n",
        "            kernel = 'linear',\n",
        "            decision_function_shape = 'ovr',\n",
        "            max_iter = 1000\n",
        "        )\n",
        "\n",
        "    def train_model(self, trainset):\n",
        "        data, label = trainset\n",
        "        self.model.fit(data, label)\n",
        "\n",
        "    def do_prediction(self, data):\n",
        "        return self.model.predict(data)\n",
        "\n",
        "    def __init__(self) -> None:\n",
        "        self.create_model()\n",
        "\n",
        "svm = SupportVectorMachine()\n",
        "svm.train_model(trainset)"
      ],
      "metadata": {
        "id": "4cBlcqMaVhai"
      },
      "execution_count": null,
      "outputs": []
    },
    {
      "cell_type": "markdown",
      "source": [
        "Validation"
      ],
      "metadata": {
        "id": "FFDpIUY9VqVP"
      }
    },
    {
      "cell_type": "code",
      "source": [
        "predictions = svm.do_prediction(fex_valid)\n",
        "plot_metrics(evaluate_multiclass_classification(fey_valid, predictions))"
      ],
      "metadata": {
        "id": "eU1h9FdFVqVP"
      },
      "execution_count": null,
      "outputs": []
    }
  ]
}